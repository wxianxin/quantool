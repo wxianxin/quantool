{
 "cells": [
  {
   "cell_type": "markdown",
   "id": "f826fa10-bbf8-441d-aa65-25c5f0d3e572",
   "metadata": {},
   "source": [
    "!pip install binance-connector\n",
    "\n",
    "https://github.com/binance/binance-connector-python"
   ]
  },
  {
   "cell_type": "code",
   "execution_count": null,
   "id": "d094a4bf-0152-4330-a752-a6a139f9dad6",
   "metadata": {},
   "outputs": [],
   "source": [
    "import pandas as pd\n",
    "from binance.client import Client\n",
    "import datetime\n",
    "\n",
    "# YOUR API KEYS HERE\n",
    "api_key = \"\"    #Enter your own API-key here\n",
    "api_secret = \"\" #Enter your own API-secret here\n",
    "\n",
    "bclient = Client(api_key=api_key, api_secret=api_secret)\n",
    "\n",
    "start_date = datetime.datetime.strptime('1 Jan 2016', '%d %b %Y')\n",
    "today = datetime.datetime.today()\n",
    "\n",
    "def binanceBarExtractor(symbol):\n",
    "    print('working...')\n",
    "    filename = '{}_MinuteBars.csv'.format(symbol)\n",
    "\n",
    "    klines = bclient.get_historical_klines(symbol, Client.KLINE_INTERVAL_1MINUTE, start_date.strftime(\"%d %b %Y %H:%M:%S\"), today.strftime(\"%d %b %Y %H:%M:%S\"), 1000)\n",
    "    data = pd.DataFrame(klines, columns = ['timestamp', 'open', 'high', 'low', 'close', 'volume', 'close_time', 'quote_av', 'trades', 'tb_base_av', 'tb_quote_av', 'ignore' ])\n",
    "    data['timestamp'] = pd.to_datetime(data['timestamp'], unit='ms')\n",
    "\n",
    "    data.set_index('timestamp', inplace=True)\n",
    "    data.to_csv(filename)\n",
    "    print('finished!')\n",
    "\n",
    "\n",
    "if __name__ == '__main__':\n",
    "    # Obviously replace BTCUSDT with whichever symbol you want from binance\n",
    "    # Wherever you've saved this code is the same directory you will find the resulting CSV file\n",
    "    binanceBarExtractor('BTCUSDT')\n",
    "\n"
   ]
  }
 ],
 "metadata": {
  "kernelspec": {
   "display_name": "Python 3 (ipykernel)",
   "language": "python",
   "name": "python3"
  },
  "language_info": {
   "codemirror_mode": {
    "name": "ipython",
    "version": 3
   },
   "file_extension": ".py",
   "mimetype": "text/x-python",
   "name": "python",
   "nbconvert_exporter": "python",
   "pygments_lexer": "ipython3",
   "version": "3.11.3"
  }
 },
 "nbformat": 4,
 "nbformat_minor": 5
}
