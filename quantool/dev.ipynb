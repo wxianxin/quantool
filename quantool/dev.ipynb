{
 "cells": [
  {
   "cell_type": "code",
   "execution_count": 2,
   "id": "d97e6e88-ecc2-4187-a3ae-d05c02155ca7",
   "metadata": {},
   "outputs": [],
   "source": [
    "import numpy as np\n",
    "import pandas as pd"
   ]
  },
  {
   "cell_type": "code",
   "execution_count": 29,
   "id": "20a0ccde-37d9-49ad-85ec-35fbf48ecc7b",
   "metadata": {},
   "outputs": [],
   "source": [
    "arr = np.loadtxt(\"/home/coupe/Downloads/AMD.csv\", delimiter=\",\", dtype=str)\n",
    "arr = arr[1:]\n",
    "df = pd.read_csv(\"/home/coupe/Downloads/AMD.csv\")"
   ]
  },
  {
   "cell_type": "code",
   "execution_count": 42,
   "id": "0f855d57-df0f-4523-b1b8-69a0c216840c",
   "metadata": {},
   "outputs": [],
   "source": [
    "arr[:, 0] = np.array(arr[:, 0], dtype='datetime64')[0]"
   ]
  },
  {
   "cell_type": "code",
   "execution_count": 29,
   "id": "bf51b7e9-639b-47ab-ac8c-60be144c0e41",
   "metadata": {
    "scrolled": true
   },
   "outputs": [],
   "source": [
    "arr = np.array( [[6, 11, 4],\n",
    "                [3, 2, 14],\n",
    "                [9, 8, 7]])"
   ]
  },
  {
   "cell_type": "code",
   "execution_count": 31,
   "id": "143109bb-f3e1-4fc0-9d60-542000d0a32d",
   "metadata": {},
   "outputs": [
    {
     "data": {
      "text/plain": [
       "array([[ 3,  2, 14],\n",
       "       [ 6, 11,  4],\n",
       "       [ 9,  8,  7]])"
      ]
     },
     "execution_count": 31,
     "metadata": {},
     "output_type": "execute_result"
    }
   ],
   "source": [
    "np datatime "
   ]
  },
  {
   "cell_type": "code",
   "execution_count": 44,
   "id": "d570be8a-6d85-430f-ae43-1a041d68835a",
   "metadata": {},
   "outputs": [
    {
     "data": {
      "text/plain": [
       "1641040496.0"
      ]
     },
     "execution_count": 44,
     "metadata": {},
     "output_type": "execute_result"
    }
   ],
   "source": [
    "(np.datetime64('2022-01-01T12:34:56') - np.datetime64('1970-01-01T00:00:00')).astype(float)"
   ]
  },
  {
   "cell_type": "code",
   "execution_count": 45,
   "id": "3fec932f-160d-4695-9c7c-aa316eb3b6ae",
   "metadata": {},
   "outputs": [],
   "source": [
    "import time"
   ]
  },
  {
   "cell_type": "code",
   "execution_count": 46,
   "id": "1b6c8e26-6623-4d36-981e-46cfe9cec409",
   "metadata": {},
   "outputs": [
    {
     "data": {
      "text/plain": [
       "1695471798.7890456"
      ]
     },
     "execution_count": 46,
     "metadata": {},
     "output_type": "execute_result"
    }
   ],
   "source": [
    "time.time()"
   ]
  },
  {
   "cell_type": "code",
   "execution_count": 47,
   "id": "bcff8df6-ffae-43a6-8a59-46be98ac40b3",
   "metadata": {},
   "outputs": [],
   "source": [
    "direction = \"123\""
   ]
  },
  {
   "cell_type": "code",
   "execution_count": 48,
   "id": "196ce184-9869-40f8-a6df-b656f42dc66c",
   "metadata": {},
   "outputs": [
    {
     "ename": "AssertionError",
     "evalue": "Invalid direction",
     "output_type": "error",
     "traceback": [
      "\u001b[0;31m---------------------------------------------------------------------------\u001b[0m",
      "\u001b[0;31mAssertionError\u001b[0m                            Traceback (most recent call last)",
      "Cell \u001b[0;32mIn[48], line 1\u001b[0m\n\u001b[0;32m----> 1\u001b[0m \u001b[38;5;28;01massert\u001b[39;00m direction \u001b[38;5;129;01min\u001b[39;00m [\u001b[38;5;124m\"\u001b[39m\u001b[38;5;124mBUY\u001b[39m\u001b[38;5;124m\"\u001b[39m, \u001b[38;5;124m\"\u001b[39m\u001b[38;5;124mSELL\u001b[39m\u001b[38;5;124m\"\u001b[39m], \u001b[38;5;124m\"\u001b[39m\u001b[38;5;124mInvalid direction\u001b[39m\u001b[38;5;124m\"\u001b[39m\n",
      "\u001b[0;31mAssertionError\u001b[0m: Invalid direction"
     ]
    }
   ],
   "source": [
    "assert direction in [\"BUY\", \"SELL\"], \"Invalid direction\""
   ]
  },
  {
   "cell_type": "code",
   "execution_count": 52,
   "id": "6e9799aa-7245-42df-9fe1-0a59f4057994",
   "metadata": {},
   "outputs": [],
   "source": [
    "from collections import deque\n",
    "dq = deque((), maxlen=4)"
   ]
  },
  {
   "cell_type": "code",
   "execution_count": 59,
   "id": "bfa97547-6da8-406a-976f-6b128208e69d",
   "metadata": {},
   "outputs": [
    {
     "name": "stdout",
     "output_type": "stream",
     "text": [
      "deque([3, 4, 5, 0], maxlen=4)\n",
      "deque([4, 5, 0, 1], maxlen=4)\n",
      "deque([5, 0, 1, 2], maxlen=4)\n",
      "deque([0, 1, 2, 3], maxlen=4)\n",
      "deque([1, 2, 3, 4], maxlen=4)\n",
      "deque([2, 3, 4, 5], maxlen=4)\n"
     ]
    }
   ],
   "source": [
    "for i in range(6):\n",
    "    dq.append(i)\n",
    "    print(dq)"
   ]
  },
  {
   "cell_type": "code",
   "execution_count": 12,
   "id": "ffa86ed8-914f-47eb-8558-e69174e8312d",
   "metadata": {},
   "outputs": [
    {
     "name": "stdout",
     "output_type": "stream",
     "text": [
      "[0, 1, 2]\n"
     ]
    }
   ],
   "source": [
    "import queue\n",
    "q = queue.Queue()\n",
    "q.put(0)\n",
    "q.put(1)\n",
    "q.put(2)\n",
    "print(list(q.queue))"
   ]
  },
  {
   "cell_type": "code",
   "execution_count": 16,
   "id": "2e16ad55-bbcb-424b-996e-3101def811a3",
   "metadata": {},
   "outputs": [
    {
     "ename": "Empty",
     "evalue": "",
     "output_type": "error",
     "traceback": [
      "\u001b[0;31m---------------------------------------------------------------------------\u001b[0m",
      "\u001b[0;31mEmpty\u001b[0m                                     Traceback (most recent call last)",
      "Cell \u001b[0;32mIn[16], line 1\u001b[0m\n\u001b[0;32m----> 1\u001b[0m \u001b[38;5;28mprint\u001b[39m(\u001b[43mq\u001b[49m\u001b[38;5;241;43m.\u001b[39;49m\u001b[43mget\u001b[49m\u001b[43m(\u001b[49m\u001b[43mblock\u001b[49m\u001b[38;5;241;43m=\u001b[39;49m\u001b[38;5;28;43;01mFalse\u001b[39;49;00m\u001b[43m)\u001b[49m)\n\u001b[1;32m      2\u001b[0m \u001b[38;5;28mprint\u001b[39m(\u001b[38;5;28mlist\u001b[39m(q\u001b[38;5;241m.\u001b[39mqueue))\n",
      "File \u001b[0;32m/usr/lib/python3.11/queue.py:168\u001b[0m, in \u001b[0;36mQueue.get\u001b[0;34m(self, block, timeout)\u001b[0m\n\u001b[1;32m    166\u001b[0m \u001b[38;5;28;01mif\u001b[39;00m \u001b[38;5;129;01mnot\u001b[39;00m block:\n\u001b[1;32m    167\u001b[0m     \u001b[38;5;28;01mif\u001b[39;00m \u001b[38;5;129;01mnot\u001b[39;00m \u001b[38;5;28mself\u001b[39m\u001b[38;5;241m.\u001b[39m_qsize():\n\u001b[0;32m--> 168\u001b[0m         \u001b[38;5;28;01mraise\u001b[39;00m Empty\n\u001b[1;32m    169\u001b[0m \u001b[38;5;28;01melif\u001b[39;00m timeout \u001b[38;5;129;01mis\u001b[39;00m \u001b[38;5;28;01mNone\u001b[39;00m:\n\u001b[1;32m    170\u001b[0m     \u001b[38;5;28;01mwhile\u001b[39;00m \u001b[38;5;129;01mnot\u001b[39;00m \u001b[38;5;28mself\u001b[39m\u001b[38;5;241m.\u001b[39m_qsize():\n",
      "\u001b[0;31mEmpty\u001b[0m: "
     ]
    }
   ],
   "source": [
    "print(q.get(block=False))\n",
    "print(list(q.queue))"
   ]
  },
  {
   "cell_type": "code",
   "execution_count": null,
   "id": "3f181cb8-2a7a-475e-8155-174468d7e730",
   "metadata": {},
   "outputs": [],
   "source": []
  },
  {
   "cell_type": "code",
   "execution_count": null,
   "id": "a63f83c1-0f86-4bd8-893c-7332f9bb8369",
   "metadata": {},
   "outputs": [],
   "source": []
  }
 ],
 "metadata": {
  "kernelspec": {
   "display_name": "Python 3 (ipykernel)",
   "language": "python",
   "name": "python3"
  },
  "language_info": {
   "codemirror_mode": {
    "name": "ipython",
    "version": 3
   },
   "file_extension": ".py",
   "mimetype": "text/x-python",
   "name": "python",
   "nbconvert_exporter": "python",
   "pygments_lexer": "ipython3",
   "version": "3.11.5"
  }
 },
 "nbformat": 4,
 "nbformat_minor": 5
}
